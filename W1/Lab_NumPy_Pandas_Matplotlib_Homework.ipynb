{
 "cells": [
  {
   "cell_type": "markdown",
   "id": "3c01cc5b",
   "metadata": {},
   "source": [
    "# **LAB: Dữ liệu với NumPy, Pandas và Matplotlib**"
   ]
  },
  {
   "cell_type": "markdown",
   "id": "b43e5f00",
   "metadata": {},
   "source": [
    "\n",
    "### **Mục tiêu**\n",
    "- Làm quen với NumPy: Tạo mảng, thao tác cơ bản và nâng cao với mảng.\n",
    "- Thực hành xử lý dữ liệu với Pandas: Đọc, phân tích và làm sạch dữ liệu.\n",
    "- Trực quan hóa dữ liệu bằng Matplotlib: Biểu đồ cơ bản và nâng cao.\n"
   ]
  },
  {
   "cell_type": "markdown",
   "id": "4db747ee",
   "metadata": {},
   "source": [
    "## **Phần 1: NumPy cơ bản**"
   ]
  },
  {
   "cell_type": "markdown",
   "id": "dfebca02",
   "metadata": {},
   "source": [
    "### **Bài tập 1: Tạo mảng và thao tác cơ bản**\n",
    "\n",
    "1 Tạo một mảng NumPy với các giá trị từ 1 đến 20.\\\n",
    "2 Tìm tổng, giá trị lớn nhất, nhỏ nhất và trung bình của mảng.\\\n",
    "3 Tạo một mảng 2D (3x5) chứa các số ngẫu nhiên từ 0 đến 100.\\\n",
    "4 Lấy hàng thứ 2 và cột thứ 3 của mảng 2D."
   ]
  },
  {
   "cell_type": "code",
   "execution_count": 3,
   "id": "e8beb67f",
   "metadata": {},
   "outputs": [
    {
     "name": "stdout",
     "output_type": "stream",
     "text": [
      "Mảng từ 1 đến 20: [ 1  2  3  4  5  6  7  8  9 10 11 12 13 14 15 16 17 18 19 20]\n",
      "Tổng: 210\n",
      "Giá trị lớn nhất: 20\n",
      "Giá trị nhỏ nhất: 1\n",
      "Trung bình:\n",
      "Mảng 2D: [[ 8 19 44  2 81]\n",
      " [53  7 75 71 75]\n",
      " [93 48 24 51 35]]\n",
      "Hàng thứ 2: [53  7 75 71 75]\n",
      "Cột thứ 3: [44 75 24]\n"
     ]
    }
   ],
   "source": [
    "\n",
    "import numpy as np\n",
    "\n",
    "# 1. Tạo một mảng NumPy với các giá trị từ 1 đến 20\n",
    "array_1 = np.array([1,2,3,4,5,6,7,8,9,10,11,12,13,14,15,16,17,18,19,20])\n",
    "print(\"Mảng từ 1 đến 20:\", array_1)\n",
    "\n",
    "# 2. Tìm tổng, giá trị lớn nhất, nhỏ nhất và trung bình của mảng\n",
    "print(\"Tổng:\", array_1.sum())\n",
    "print(\"Giá trị lớn nhất:\", array_1.max() )\n",
    "print(\"Giá trị nhỏ nhất:\", array_1.min() )\n",
    "print(\"Trung bình:\", )\n",
    "\n",
    "# 3. Tạo một mảng 2D (3x5) chứa các số ngẫu nhiên từ 0 đến 100\n",
    "array_2d = np.array(([ 8, 19, 44,  2, 81],[53, 7, 75, 71, 75],[93, 48, 24, 51, 35]))\n",
    "print(\"Mảng 2D:\", array_2d)\n",
    "\n",
    "# 4. Lấy hàng thứ 2 và cột thứ 3 của mảng 2D\n",
    "print(\"Hàng thứ 2:\", array_2d[1])\n",
    "print(\"Cột thứ 3:\", array_2d[:, 2])\n"
   ]
  },
  {
   "cell_type": "markdown",
   "id": "e04ed2c1",
   "metadata": {},
   "source": [
    "### **Bài tập 2: Các thao tác nâng cao**\n",
    "\n",
    "1 Tạo một mảng NumPy chứa 20 giá trị ngẫu nhiên từ 0 đến 1.\\\n",
    "2 Chuẩn hóa mảng này (đưa các giá trị về khoảng [0, 1]).\\\n",
    "3 Tính tích vô hướng (dot product) của hai mảng 1D: [1, 2, 3] và [4, 5,6].\\\n",
    "4 Tạo một ma trận 5x5 và tính định thức (determinant) và nghịch đảo của ma trận."
   ]
  },
  {
   "cell_type": "code",
   "execution_count": 19,
   "id": "8bfb4c61",
   "metadata": {},
   "outputs": [
    {
     "name": "stdout",
     "output_type": "stream",
     "text": [
      "Mảng ngẫu nhiên từ 0 đến 1: [[0.37122041 0.88009702 0.34469452 0.47219673 0.51877819]\n",
      " [0.88069838 0.13259431 0.95789186 0.04583438 0.97371621]\n",
      " [0.85272742 0.58800188 0.12776119 0.64820164 0.72190528]\n",
      " [0.29763119 0.58908215 0.36229065 0.00598969 0.69568388]\n",
      " [0.50422651 0.7049563  0.75435318 0.51276439 0.21117857]]\n",
      "Mảng sau khi chuẩn hóa: [[0.37741109 0.90325864 0.35000057 0.48175495 0.52988989]\n",
      " [0.90388005 0.13082685 0.98364792 0.0411735  1.        ]\n",
      " [0.87497626 0.60142218 0.12583255 0.66362959 0.73979123]\n",
      " [0.30136768 0.60253847 0.36818353 0.         0.71269535]\n",
      " [0.51485292 0.722277   0.77332126 0.52367553 0.21203189]]\n",
      "Tích vô hướng của a và b: 32\n",
      "Ma trận: [[3 6 6 2 4]\n",
      " [3 2 7 2 2]\n",
      " [1 7 9 5 7]\n",
      " [3 5 5 8 9]\n",
      " [1 3 4 5 4]]\n",
      "Định thức của ma trận: 1007.0000000000003\n",
      "Ma trận nghịch đảo: [[ 0.20754717  0.11717974 -0.27805362  0.11122145 -0.02979146]\n",
      " [ 0.32075472 -0.23038729 -0.08043694 -0.16782522  0.31281033]\n",
      " [-0.13207547  0.15988083  0.12909633 -0.05163853 -0.05759682]\n",
      " [ 0.03773585 -0.04568024 -0.17974181 -0.12810328  0.58788481]\n",
      " [-0.20754717  0.040715    0.22542205  0.30983118 -0.65441907]]\n"
     ]
    }
   ],
   "source": [
    "import numpy as np\n",
    "\n",
    "# 1. Tạo một mảng NumPy chứa 20 giá trị ngẫu nhiên từ 0 đến 1\n",
    "random_array = np.random.rand(5,5)\n",
    "print(\"Mảng ngẫu nhiên từ 0 đến 1:\", random_array)\n",
    "\n",
    "# 2. Chuẩn hóa mảng này (đưa các giá trị về khoảng [0, 1])\n",
    "normalized_array = (random_array-np.min(random_array))/(np.max(random_array)-np.min(random_array))\n",
    "print(\"Mảng sau khi chuẩn hóa:\", normalized_array)\n",
    "\n",
    "# 3. Tính tích vô hướng (dot product) của hai mảng 1D\n",
    "a = np.array([1, 2, 3])\n",
    "b = np.array([4, 5, 6])\n",
    "dot_product = np.dot(a,b)\n",
    "print(\"Tích vô hướng của a và b:\", dot_product)\n",
    "\n",
    "# 4. Tạo một ma trận 5x5 và tính định thức, nghịch đảo\n",
    "matrix = np.array(([3, 6, 6, 2, 4],[3, 2, 7, 2, 2],[1, 7, 9, 5, 7],[3, 5, 5, 8, 9],[1, 3, 4, 5, 4]))\n",
    "print(\"Ma trận:\", matrix)\n",
    "determinant = np.linalg.det(matrix)\n",
    "print(\"Định thức của ma trận:\", determinant)\n",
    "if determinant != 0:\n",
    "    inverse_matrix = np.linalg.inv(matrix)\n",
    "    print(\"Ma trận nghịch đảo:\", inverse_matrix)\n",
    "else:\n",
    "    print(\"Ma trận không khả nghịch (định thức = 0).\")\n"
   ]
  },
  {
   "cell_type": "markdown",
   "id": "e33acf59",
   "metadata": {},
   "source": [
    "## **Phần 2: Pandas cơ bản**"
   ]
  },
  {
   "cell_type": "markdown",
   "id": "e2d7aa69",
   "metadata": {},
   "source": [
    "### **Bài tập 3: Làm quen với DataFrame**\n",
    "1 Tạo một DataFrame chứa thông tin sau:\n",
    "| Name    | Age | Score |\n",
    "|---------|-----|-------|\n",
    "| Alice   | 23  | 85    |\n",
    "| Bob     | 25  | 90    |\n",
    "| Charlie | 22  | 78    |\n",
    "| David   | 24  | 92    |\n",
    "| Eva     | 21  | 88    |\n",
    "\n",
    "2 Tính giá trị trung bình của cột \"Score\".\\\n",
    "3 Lọc các hàng có \"Score\" lớn hơn 85."
   ]
  },
  {
   "cell_type": "code",
   "execution_count": 21,
   "id": "e8617a8a",
   "metadata": {},
   "outputs": [
    {
     "name": "stdout",
     "output_type": "stream",
     "text": [
      "DataFrame:       Name  Age  Score\n",
      "0    Alice   23     85\n",
      "1      Bob   25     90\n",
      "2  Charlie   22     78\n",
      "3    David   24     92\n",
      "4      Eva   21     88\n",
      "Các hàng có Score > 85:     Name  Age  Score\n",
      "1    Bob   25     90\n",
      "3  David   24     92\n",
      "4    Eva   21     88\n"
     ]
    }
   ],
   "source": [
    "\n",
    "import pandas as pd\n",
    "\n",
    "# 1. Tạo DataFrame\n",
    "data = {\n",
    "    \"Name\": [\"Alice\", \"Bob\", \"Charlie\", \"David\", \"Eva\"],\n",
    "    \"Age\": [23, 25, 22, 24, 21],\n",
    "    \"Score\": [85, 90, 78, 92, 88]\n",
    "}\n",
    "df = pd.DataFrame(data)\n",
    "print(\"DataFrame:\", df)\n",
    "\n",
    "# 2. Tính giá trị trung bình của cột \"Score\"\n",
    "\n",
    "\n",
    "# 3. Lọc các hàng có \"Score\" lớn hơn 85\n",
    "filtered_df = df[df[\"Score\"] > 85]\n",
    "print(\"Các hàng có Score > 85:\", filtered_df)\n"
   ]
  },
  {
   "cell_type": "markdown",
   "id": "b78fc398",
   "metadata": {},
   "source": [
    "### **Bài tập 4: Đọc và phân tích dữ liệu từ file**\n",
    "\n",
    "1 Tải file Iris.csv từ Kaggle Iris Dataset.\\\n",
    "2 Đọc dữ liệu từ file CSV vào DataFrame.\\\n",
    "3 Hiển thị thông tin cơ bản (tổng quan, kiểu dữ liệu, số lượng null).\\\n",
    "4 Tính trung bình, lớn nhất, nhỏ nhất của cột sepal_length."
   ]
  },
  {
   "cell_type": "code",
   "execution_count": null,
   "id": "62551ea7",
   "metadata": {},
   "outputs": [
    {
     "name": "stdout",
     "output_type": "stream",
     "text": [
      "<class 'pandas.core.frame.DataFrame'>\n",
      "RangeIndex: 150 entries, 0 to 149\n",
      "Data columns (total 6 columns):\n",
      " #   Column         Non-Null Count  Dtype  \n",
      "---  ------         --------------  -----  \n",
      " 0   Id             150 non-null    int64  \n",
      " 1   SepalLengthCm  150 non-null    float64\n",
      " 2   SepalWidthCm   150 non-null    float64\n",
      " 3   PetalLengthCm  150 non-null    float64\n",
      " 4   PetalWidthCm   150 non-null    float64\n",
      " 5   Species        150 non-null    object \n",
      "dtypes: float64(4), int64(1), object(1)\n",
      "memory usage: 7.2+ KB\n",
      "Thông tin tổng quan về dữ liệu: None\n",
      "Mô tả dữ liệu:                Id  SepalLengthCm  SepalWidthCm  PetalLengthCm  PetalWidthCm\n",
      "count  150.000000     150.000000    150.000000     150.000000    150.000000\n",
      "mean    75.500000       5.843333      3.054000       3.758667      1.198667\n",
      "std     43.445368       0.828066      0.433594       1.764420      0.763161\n",
      "min      1.000000       4.300000      2.000000       1.000000      0.100000\n",
      "25%     38.250000       5.100000      2.800000       1.600000      0.300000\n",
      "50%     75.500000       5.800000      3.000000       4.350000      1.300000\n",
      "75%    112.750000       6.400000      3.300000       5.100000      1.800000\n",
      "max    150.000000       7.900000      4.400000       6.900000      2.500000\n",
      "Trung bình sepal_length: 5.843333333333334\n"
     ]
    }
   ],
   "source": [
    "import pandas\n",
    "\n",
    "# Đọc file CSV\n",
    "iris_df = pandas.read_csv('Iris.csv')\n",
    "print(\"Thông tin tổng quan về dữ liệu:\", iris_df.info())\n",
    "print(\"Mô tả dữ liệu:\", iris_df.describe())\n",
    "\n",
    "# Tính toán cơ bản\n",
    "print(\"Trung bình sepal_length:\", iris_df[\"SepalLengthCm\"].mean())\n",
    "print(\"Giá trị lớn nhất sepal_length:\", iris_df[\"SepalLengthCm\"].max())\n",
    "print(\"Giá trị nhỏ nhất sepal_length:\", iris_df[\"SepalLengthCm\"].min())\n"
   ]
  },
  {
   "cell_type": "markdown",
   "id": "332f5c1f",
   "metadata": {},
   "source": [
    "## **Phần 3: Làm sạch dữ liệu**"
   ]
  },
  {
   "cell_type": "markdown",
   "id": "967ee936",
   "metadata": {},
   "source": [
    "### **Bài tập 5: Xử lý dữ liệu thiếu**\n",
    "1 Tạo một DataFrame chứa các giá trị sau:\n",
    "\n",
    "| Name    | Age | City     | Salary |\n",
    "|---------|-----|----------|--------|\n",
    "| Alice   | 23  | New York | 60000  |\n",
    "| Bob     | NaN | Boston   | 52000  |\n",
    "| Charlie | 25  | NaN      | NaN    |\n",
    "| David   | 24  | Chicago  | 58000  |\n",
    "| Eva     | 22  | Boston   | NaN    |\n",
    "\n",
    "2 Điền giá trị thiếu trong cột Age bằng giá trị trung bình.\\\n",
    "3 Xóa các hàng có nhiều hơn 1 giá trị thiếu.\\\n",
    "4 Điền giá trị thiếu trong cột Salary bằng 50000."
   ]
  },
  {
   "cell_type": "code",
   "execution_count": 42,
   "id": "e4582e08",
   "metadata": {},
   "outputs": [
    {
     "name": "stdout",
     "output_type": "stream",
     "text": [
      "Dữ liệu ban đầu:\n",
      "      Name  Age      City  Score\n",
      "0    Alice   23  New York  60000\n",
      "1      Bob  NaN    Boston  52000\n",
      "2  Charlie   25        78    NaN\n",
      "3    David   24   Chicago  58000\n",
      "4      Eva   22    Boston    NaN\n",
      "Dữ liệu sau khi điền trung bình:\n",
      "      Name   Age      City  Score\n",
      "0    Alice    23  New York  60000\n",
      "1      Bob  23.5    Boston  52000\n",
      "2  Charlie    25        78    NaN\n",
      "3    David    24   Chicago  58000\n",
      "4      Eva    22    Boston    NaN\n"
     ]
    }
   ],
   "source": [
    "import pandas as pd\n",
    "import numpy as np\n",
    "\n",
    "# Tạo DataFrame chứa dữ liệu thiếu\n",
    "data_with_missing = {\n",
    "    \"Name\": [\"Alice\", \"Bob\", \"Charlie\", \"David\", \"Eva\"],\n",
    "    \"Age\": [23, \"\", 25, 24, 22],\n",
    "    \"City\": [\"New York\", \"Boston\", 78, \"Chicago\", \"Boston\"],\n",
    "    \"Score\": [60000, 52000, \"\", 58000, \"\"]\n",
    "}\n",
    "\n",
    "df_missing = pd.DataFrame(data_with_missing).replace(\"\", np.nan)\n",
    "print(f\"Dữ liệu ban đầu:\\n{df_missing}\")\n",
    "\n",
    "# 1. Điền giá trị thiếu trong cột Age bằng giá trị trung bình\n",
    "df_missing['Age'] = df_missing['Age'].fillna(df_missing['Age'].mean())\n",
    "\n",
    "print(f\"Dữ liệu sau khi điền trung bình:\\n{df_missing}\")\n",
    "\n",
    "# 2. Xóa các hàng có nhiều hơn 1 giá trị thiếu\n",
    "\n",
    "\n",
    "# 3. Điền giá trị thiếu trong cột Salary bằng 50000\n",
    "\n"
   ]
  },
  {
   "cell_type": "markdown",
   "id": "b386c09b",
   "metadata": {},
   "source": [
    "## **Phần 4: Trực quan hóa dữ liệu với Matplotlib**"
   ]
  },
  {
   "cell_type": "markdown",
   "id": "badc99ed",
   "metadata": {},
   "source": [
    "### **Bài tập 6: Biểu đồ cơ bản**\n",
    "\n",
    "1 Tạo một biểu đồ đường biểu diễn hàm số y = x ** 2 trên khoảng [-10,10] \\\n",
    "2 Vẽ biểu đồ cột thể hiện điểm số (Score) của các sinh viên từ Bài tập 3.\\\n",
    "3 Tạo một biểu đồ tròn (pie chart) thể hiện phần trăm mỗi loại hoa trong tập dữ liệu Iris."
   ]
  },
  {
   "cell_type": "code",
   "execution_count": 10,
   "id": "2de20551",
   "metadata": {},
   "outputs": [
    {
     "data": {
      "image/png": "[encoded data removed]",
      "text/plain": [
       "<Figure size 640x480 with 1 Axes>"
      ]
     },
     "metadata": {},
     "output_type": "display_data"
    },
    {
     "data": {
      "image/png": "[encoded data removed]",
      "text/plain": [
       "<Figure size 640x480 with 1 Axes>"
      ]
     },
     "metadata": {},
     "output_type": "display_data"
    }
   ],
   "source": [
    "import matplotlib.pyplot as plt\n",
    "import numpy as np\n",
    "\n",
    "# 1. Biểu đồ đường hàm số y = x^2\n",
    "x = np.linspace(-10, 10, 100)\n",
    "y = x**2\n",
    "\n",
    "plt.plot(x, y, label='y = x^2', color='skyblue')\n",
    "plt.title('Biểu đồ hàm số y = x^2')\n",
    "plt.xlabel('x')\n",
    "plt.ylabel('y')\n",
    "plt.legend()\n",
    "plt.show()\n",
    "\n",
    "# 2. Biểu đồ cột điểm số\n",
    "labels = ['Alice', 'Bob', 'Charlie', 'David', 'Eva']\n",
    "scores = [85, 90, 78, 92, 88]\n",
    "\n",
    "plt.bar(labels, scores, color='skyblue')\n",
    "plt.title('Điểm số của sinh viên')\n",
    "plt.xlabel('Tên')\n",
    "plt.ylabel('Điểm số')\n",
    "plt.show()\n"
   ]
  },
  {
   "cell_type": "markdown",
   "id": "2a472a75",
   "metadata": {},
   "source": [
    "### **Bài tập 7: Biểu đồ nâng cao**\n",
    "\n",
    "1 Vẽ biểu đồ phân tán (scatter plot) giữa sepal_length và sepal_width của tập dữ liệu Iris. Dùng màu sắc để phân biệt các loại hoa (species).\\\n",
    "2 Thêm tiêu đề, nhãn trục và chú thích cho biểu đồ."
   ]
  },
  {
   "cell_type": "code",
   "execution_count": 12,
   "id": "003e508e",
   "metadata": {},
   "outputs": [
    {
     "data": {
      "image/png": "[encoded data removed]",
      "text/plain": [
       "<Figure size 640x480 with 1 Axes>"
      ]
     },
     "metadata": {},
     "output_type": "display_data"
    }
   ],
   "source": [
    "\n",
    "# 1. Biểu đồ phân tán với màu sắc theo loại hoa\n",
    "#Code here\n",
    "import numpy as np\n",
    "\n",
    "# Vẽ biểu đồ phân tán\n",
    "x = np.random.rand(50)\n",
    "y = np.random.rand(50)\n",
    "sizes = np.random.rand(50) * 100\n",
    "\n",
    "plt.scatter(x, y, s=sizes, alpha=0.5, c='green')\n",
    "plt.title(\"Phân tán Sepal Length và Sepal Width\")\n",
    "plt.xlabel(\"Sepal Length\")\n",
    "plt.ylabel(\"Sepal Width\")\n",
    "plt.show()\n"
   ]
  }
 ],
 "metadata": {
  "kernelspec": {
   "display_name": "Python 3",
   "language": "python",
   "name": "python3"
  },
  "language_info": {
   "codemirror_mode": {
    "name": "ipython",
    "version": 3
   },
   "file_extension": ".py",
   "mimetype": "text/x-python",
   "name": "python",
   "nbconvert_exporter": "python",
   "pygments_lexer": "ipython3",
   "version": "3.12.4"
  }
 },
 "nbformat": 4,
 "nbformat_minor": 5
}
